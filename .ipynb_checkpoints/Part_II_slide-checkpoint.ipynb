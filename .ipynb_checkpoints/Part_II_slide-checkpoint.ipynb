{
 "cells": [
  {
   "cell_type": "markdown",
   "metadata": {
    "slideshow": {
     "slide_type": "slide"
    }
   },
   "source": [
    "# Part II - (Prosper Loan Data Analysis)\n",
    "## by (Lerato Maluleke)"
   ]
  },
  {
   "cell_type": "markdown",
   "metadata": {
    "slideshow": {
     "slide_type": "slide"
    }
   },
   "source": [
    "## Investigation Overview\n",
    "\n",
    "\n",
    "> The investigations will look at variables which answer the question with visualisations:\n",
    "- What effects the borrowers APR or interest rate in prosper loan ?\n",
    "- Which variables affects the loan outcome which include Loan Term that determining the outcome of a loan? \n",
    "\n",
    "## Dataset Overview\n",
    "\n",
    ">The dataset consisted of borrower APRs and attributes of 113,937 loans. The attributes included original loan amount, borrower's Prosper rating, loan term, borrower's stated monthly income, as well as many other features such as borrower's employment status, debt to income ratio."
   ]
  },
  {
   "cell_type": "code",
   "execution_count": 6,
   "metadata": {
    "slideshow": {
     "slide_type": "skip"
    }
   },
   "outputs": [],
   "source": [
    "# import all packages and set plots to be embedded inline\n",
    "import numpy as np\n",
    "import pandas as pd\n",
    "import matplotlib.pyplot as plt\n",
    "import seaborn as sb\n",
    "\n",
    "%matplotlib inline\n",
    "\n",
    "# suppress warnings from final output\n",
    "import warnings\n",
    "warnings.simplefilter(\"ignore\")"
   ]
  },
  {
   "cell_type": "code",
   "execution_count": 7,
   "metadata": {
    "slideshow": {
     "slide_type": "skip"
    }
   },
   "outputs": [
    {
     "ename": "NameError",
     "evalue": "name 'loan_df' is not defined",
     "output_type": "error",
     "traceback": [
      "\u001b[1;31m---------------------------------------------------------------------------\u001b[0m",
      "\u001b[1;31mNameError\u001b[0m                                 Traceback (most recent call last)",
      "\u001b[1;32m~\\AppData\\Local\\Temp\\ipykernel_13412\\4097599511.py\u001b[0m in \u001b[0;36m<module>\u001b[1;34m\u001b[0m\n\u001b[0;32m      4\u001b[0m cols = ['LoanStatus', 'BorrowerAPR', 'EmploymentStatus', 'StatedMonthlyIncome',\n\u001b[0;32m      5\u001b[0m         'IncomeVerifiable', 'DebtToIncomeRatio', 'LoanOriginalAmount', 'Term', 'ProsperRating (Alpha)']\n\u001b[1;32m----> 6\u001b[1;33m \u001b[0mloan_subset\u001b[0m \u001b[1;33m=\u001b[0m \u001b[0mloan_df\u001b[0m\u001b[1;33m[\u001b[0m\u001b[0mcols\u001b[0m\u001b[1;33m]\u001b[0m\u001b[1;33m\u001b[0m\u001b[1;33m\u001b[0m\u001b[0m\n\u001b[0m\u001b[0;32m      7\u001b[0m \u001b[1;33m\u001b[0m\u001b[0m\n\u001b[0;32m      8\u001b[0m \u001b[1;31m# group all values in \"LoanStatus\" containing \"Past Due \" and replace with \"Past Due\"\u001b[0m\u001b[1;33m\u001b[0m\u001b[1;33m\u001b[0m\u001b[0m\n",
      "\u001b[1;31mNameError\u001b[0m: name 'loan_df' is not defined"
     ]
    }
   ],
   "source": [
    "# load in the dataset into a pandas dataframe\n",
    "ploan = pd.read_csv('prosperLoanData.csv')\n",
    "# Subset the dataframe\n",
    "cols = ['LoanStatus', 'BorrowerAPR', 'EmploymentStatus', 'StatedMonthlyIncome',\n",
    "        'IncomeVerifiable', 'DebtToIncomeRatio', 'LoanOriginalAmount', 'Term', 'ProsperRating (Alpha)']\n",
    "loan_subset = loan_df[cols]\n",
    "\n",
    "# group all values in \"LoanStatus\" containing \"Past Due \" and replace with \"Past Due\"\n",
    "loan_subset.loc[loan_subset['LoanStatus'].str.contains('Past Due '), 'LoanStatus'] = 'Past Due'\n",
    "loan_subset[loan_subset['LoanStatus']==\"Past Due\"]\n",
    "\n",
    "# set dtype of 'LoanStatus' to category\n",
    "loanstatus_order = loan_subset['LoanStatus'].value_counts().index\n",
    "ordered_var = pd.api.types.CategoricalDtype(ordered = True,\n",
    "                                           categories = loanstatus_order)\n",
    "loan_subset['LoanStatus'] = loan_subset['LoanStatus'].astype(ordered_var)\n",
    "\n",
    "# set dtype of 'EmploymentStatus' to category\n",
    "employ_order = loan_subset['EmploymentStatus'].value_counts().index\n",
    "ordered_var = pd.api.types.CategoricalDtype(ordered = True,\n",
    "                                           categories = employ_order)\n",
    "loan_subset['EmploymentStatus'] = loan_subset['EmploymentStatus'].astype(ordered_var)\n",
    "\n",
    "# set dtype of 'Term' to category\n",
    "term_order = [12, 36, 60]\n",
    "ordered_var = pd.api.types.CategoricalDtype(ordered = True,\n",
    "                                           categories = term_order)\n",
    "loan_subset['Term'] = loan_subset['Term'].astype(ordered_var)\n",
    "\n",
    "# set dtype of 'rating' to category\n",
    "rating_order = ['HR', 'E', 'D', 'C', 'B', 'A', 'AA']\n",
    "ordered_var = pd.api.types.CategoricalDtype(categories = rating_order, ordered = True)\n",
    "loan_subset['ProsperRating (Alpha)'] = loan_subset['ProsperRating (Alpha)'].astype(ordered_var)\n",
    "\n",
    "loan_subset.shape"
   ]
  },
  {
   "cell_type": "markdown",
   "metadata": {
    "slideshow": {
     "slide_type": "slide"
    }
   },
   "source": [
    "### Distribution  of Borrower APR "
   ]
  },
  {
   "cell_type": "markdown",
   "metadata": {
    "slideshow": {
     "slide_type": "slide"
    }
   },
   "source": [
    "The distribution seems like its multomodal with a small peaks of o.1 and a bigger one at 0.2. Then it declines the has a peak of 0.3 then a sudden spike at 0.35. Then a decrease of loans above 0.42"
   ]
  },
  {
   "cell_type": "code",
   "execution_count": null,
   "metadata": {
    "slideshow": {
     "slide_type": "subslide"
    }
   },
   "outputs": [],
   "source": [
    "bins = np.arange(0, ploan.BorrowerAPR.max()+0.05, 0.01)\n",
    "plt.figure(figsize=[8, 5])\n",
    "plt.hist(data = ploan, x = 'BorrowerAPR', bins = bins);\n",
    "plt.xlabel('Borrower APR');\n",
    "plt.ylabel('Count');\n",
    "plt.title('Distribution of Borrower APR');\n",
    "plt.legend('Borrower APR');"
   ]
  },
  {
   "cell_type": "markdown",
   "metadata": {
    "collapsed": true,
    "slideshow": {
     "slide_type": "slide"
    }
   },
   "source": [
    "### Loan original amount vs Borrower APR\n",
    "\n",
    " "
   ]
  },
  {
   "cell_type": "markdown",
   "metadata": {
    "slideshow": {
     "slide_type": "slide"
    }
   },
   "source": [
    "At different size of the loan amount, the APR has a large range, but the range of APR decrease with the increase of loan amount. Overall, the borrower APR decrease with increase of loan amount"
   ]
  },
  {
   "cell_type": "markdown",
   "metadata": {
    "slideshow": {
     "slide_type": "slide"
    }
   },
   "source": [
    "## Debt to income ratio visualisation \n",
    "\n"
   ]
  },
  {
   "cell_type": "markdown",
   "metadata": {
    "slideshow": {
     "slide_type": "slide"
    }
   },
   "source": [
    "The distribution of stated monthly income is severely right screwed, with most of stated monthly income less than 30k."
   ]
  },
  {
   "cell_type": "code",
   "execution_count": null,
   "metadata": {
    "slideshow": {
     "slide_type": "subslide"
    }
   },
   "outputs": [],
   "source": [
    "# The distribution where DebttoIncomeRatio <=1\n",
    "bin_edges = np.arange(0, loan_subset.DebtToIncomeRatio.max() + 0.01, 0.01)\n",
    "sb.displot(loan_subset.DebtToIncomeRatio, kde = False, bins = bin_edges)\n",
    "plt.xlabel('Debt To Income Ratio')\n",
    "plt.ylabel('Total Count')\n",
    "plt.title('Distribution Of Debt To Income Ratio')\n",
    "plt.xlim((0, 1))\n",
    "plt.grid(False);\n",
    "plt.legend('Debt to income')"
   ]
  },
  {
   "cell_type": "markdown",
   "metadata": {
    "slideshow": {
     "slide_type": "slide"
    }
   },
   "source": [
    "Employment and other variables "
   ]
  },
  {
   "cell_type": "markdown",
   "metadata": {
    "slideshow": {
     "slide_type": "slide"
    }
   },
   "source": [
    "Does a Term affecct the chance of getting a loan when one is employed?"
   ]
  },
  {
   "cell_type": "code",
   "execution_count": null,
   "metadata": {
    "slideshow": {
     "slide_type": "subslide"
    }
   },
   "outputs": [],
   "source": [
    "plt.figure(figsize = [8, 10])\n",
    "\n",
    "# subplot 1: Prosper rating vs term\n",
    "plt.subplot(3, 1, 1)\n",
    "sb.countplot(data = loan_subset, x = 'ProsperRating (Alpha)', hue = 'Term', palette = 'Blues')\n",
    "\n",
    "# subplot 2: employment status vs. term\n",
    "ax = plt.subplot(3, 1, 2)\n",
    "sb.countplot(data = loan_subset, x = 'EmploymentStatus', hue = 'Term', palette = 'Blues')\n",
    "plt.xticks(rotation=10)\n",
    "\n",
    "# subplot 3: Prosper rating vs. employment status, use different color palette\n",
    "ax = plt.subplot(3, 1, 3)\n",
    "sb.countplot(data = loan_subset, x = 'EmploymentStatus', hue = 'ProsperRating (Alpha)', palette = 'Purples')\n",
    "ax.legend(loc = 1, ncol = 2); # re-arrange legend to remove overlapping\n",
    "plt.xticks(rotation=10);"
   ]
  },
  {
   "cell_type": "markdown",
   "metadata": {
    "slideshow": {
     "slide_type": "slide"
    }
   },
   "source": [
    "In the first graph employed customers status is showing in all the terms, showing the highest.In term for 36 months employed customers are the highest followed by full-time employment.The 60 months employment is still showing the highest this could mean when one is employed there is a greater chance of getting a loan dispite the term of the loan.\n",
    "\n",
    "The next graph also shows employment in across all the prosper rating, especially C,B,A and D."
   ]
  },
  {
   "cell_type": "code",
   "execution_count": null,
   "metadata": {
    "slideshow": {
     "slide_type": "skip"
    }
   },
   "outputs": [],
   "source": [
    "!jupyter nbconvert Part_II_slide.ipynb --to slides --post serve --no-input --no-prompt"
   ]
  },
  {
   "cell_type": "code",
   "execution_count": null,
   "metadata": {
    "slideshow": {
     "slide_type": "slide"
    }
   },
   "outputs": [],
   "source": [
    "Thank you for your time. "
   ]
  }
 ],
 "metadata": {
  "celltoolbar": "Slideshow",
  "kernelspec": {
   "display_name": "Python 3 (ipykernel)",
   "language": "python",
   "name": "python3"
  },
  "language_info": {
   "codemirror_mode": {
    "name": "ipython",
    "version": 3
   },
   "file_extension": ".py",
   "mimetype": "text/x-python",
   "name": "python",
   "nbconvert_exporter": "python",
   "pygments_lexer": "ipython3",
   "version": "3.9.13"
  }
 },
 "nbformat": 4,
 "nbformat_minor": 2
}
