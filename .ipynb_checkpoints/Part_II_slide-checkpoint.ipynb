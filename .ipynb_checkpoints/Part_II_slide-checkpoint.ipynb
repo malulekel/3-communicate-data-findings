{
 "cells": [
  {
   "cell_type": "markdown",
   "metadata": {
    "slideshow": {
     "slide_type": "slide"
    }
   },
   "source": [
    "# Part II - (Prosper Loan Data Analysis)\n",
    "## by (Lerato Maluleke)"
   ]
  },
  {
   "cell_type": "markdown",
   "metadata": {
    "slideshow": {
     "slide_type": "slide"
    }
   },
   "source": [
    "## Investigation Overview\n",
    "\n",
    "\n",
    "> The investigations will look at variables which answer the question with visualisations:\n",
    "- That factors affect a loan's outcome status? Will beblooking into those factors.\n",
    "\n",
    "## Dataset Overview\n",
    "\n",
    ">The dataset consisted of borrower APRs and attributes of 113,937 loans. The attributes included original loan amount, borrower's Prosper rating, loan term, borrower's stated monthly income, as well as many other features such as borrower's employment status, debt to income ratio."
   ]
  },
  {
   "cell_type": "code",
   "execution_count": 1,
   "metadata": {
    "slideshow": {
     "slide_type": "skip"
    }
   },
   "outputs": [],
   "source": [
    "# import all packages and set plots to be embedded inline\n",
    "%matplotlib inline\n",
    "import numpy as np\n",
    "import pandas as pd\n",
    "import matplotlib.pyplot as plt\n",
    "import seaborn as sb\n",
    "import csv\n",
    "import seaborn as sns\n",
    "\n",
    "# Ignore warning messages\n",
    "import warnings\n",
    "warnings.filterwarnings('ignore')\n",
    "\n",
    "\n",
    "\n",
    "# Base color for graphs \n",
    "\n",
    "base_color = sb.color_palette()[0]"
   ]
  },
  {
   "cell_type": "code",
   "execution_count": 2,
   "metadata": {
    "slideshow": {
     "slide_type": "skip"
    }
   },
   "outputs": [
    {
     "data": {
      "text/plain": [
       "(113937, 9)"
      ]
     },
     "execution_count": 2,
     "metadata": {},
     "output_type": "execute_result"
    }
   ],
   "source": [
    "# load in the dataset into a pandas dataframe\n",
    "ploan = pd.read_csv('prosperLoanData.csv')\n",
    "# Subset the dataframe\n",
    "cols = ['LoanStatus', 'BorrowerAPR', 'EmploymentStatus', 'StatedMonthlyIncome',\n",
    "        'IncomeVerifiable', 'DebtToIncomeRatio', 'LoanOriginalAmount', 'Term', 'ProsperRating (Alpha)']\n",
    "loan_subset = ploan[cols]\n",
    "\n",
    "# group all values in \"LoanStatus\" containing \"Past Due \" and replace with \"Past Due\"\n",
    "loan_subset.loc[loan_subset['LoanStatus'].str.contains('Past Due '), 'LoanStatus'] = 'Past Due'\n",
    "loan_subset[loan_subset['LoanStatus']==\"Past Due\"]\n",
    "\n",
    "# set dtype of 'LoanStatus' to category\n",
    "loanstatus_order = loan_subset['LoanStatus'].value_counts().index\n",
    "ordered_var = pd.api.types.CategoricalDtype(ordered = True,\n",
    "                                           categories = loanstatus_order)\n",
    "loan_subset['LoanStatus'] = loan_subset['LoanStatus'].astype(ordered_var)\n",
    "\n",
    "# set dtype of 'EmploymentStatus' to category\n",
    "employ_order = loan_subset['EmploymentStatus'].value_counts().index\n",
    "ordered_var = pd.api.types.CategoricalDtype(ordered = True,\n",
    "                                           categories = employ_order)\n",
    "loan_subset['EmploymentStatus'] = loan_subset['EmploymentStatus'].astype(ordered_var)\n",
    "\n",
    "# set dtype of 'Term' to category\n",
    "term_order = [12, 36, 60]\n",
    "ordered_var = pd.api.types.CategoricalDtype(ordered = True,\n",
    "                                           categories = term_order)\n",
    "loan_subset['Term'] = loan_subset['Term'].astype(ordered_var)\n",
    "\n",
    "# set dtype of 'rating' to category\n",
    "rating_order = ['HR', 'E', 'D', 'C', 'B', 'A', 'AA']\n",
    "ordered_var = pd.api.types.CategoricalDtype(categories = rating_order, ordered = True)\n",
    "loan_subset['ProsperRating (Alpha)'] = loan_subset['ProsperRating (Alpha)'].astype(ordered_var)\n",
    "\n",
    "loan_subset.shape"
   ]
  },
  {
   "cell_type": "markdown",
   "metadata": {
    "slideshow": {
     "slide_type": "slide"
    }
   },
   "source": [
    "### How does the loan term affect the loans outcome? "
   ]
  },
  {
   "cell_type": "code",
   "execution_count": 3,
   "metadata": {
    "slideshow": {
     "slide_type": "slide"
    }
   },
   "outputs": [
    {
     "data": {
      "text/plain": [
       "<AxesSubplot:xlabel='Term', ylabel='count'>"
      ]
     },
     "execution_count": 3,
     "metadata": {},
     "output_type": "execute_result"
    },
    {
     "data": {
      "image/png": "[encoded data removed]",
      "text/plain": [
       "<Figure size 640x480 with 1 Axes>"
      ]
     },
     "metadata": {},
     "output_type": "display_data"
    }
   ],
   "source": [
    "sb.set()\n",
    "sb.countplot(data=loan_subset, x='Term')"
   ]
  },
  {
   "cell_type": "markdown",
   "metadata": {
    "slideshow": {
     "slide_type": "slide"
    }
   },
   "source": [
    "Loan Term: The length of time a borrower has to repay a loan affects the outcome of the loan. Longer loan terms may provide more flexibility for the borrower, but may also increase their risk of defaulting.This will be compared to another factor in bivariate so we can come to a conclusion on how it affects repayment etc"
   ]
  },
  {
   "cell_type": "markdown",
   "metadata": {
    "slideshow": {
     "slide_type": "slide"
    }
   },
   "source": [
    "Is there any relationship between Emploment status and PropserRating ?"
   ]
  },
  {
   "cell_type": "code",
   "execution_count": null,
   "metadata": {
    "slideshow": {
     "slide_type": "slide"
    }
   },
   "outputs": [],
   "source": [
    "# create clustered bar plot\n",
    "sns.countplot(data=ploan, x='EmploymentStatus', hue='ProsperRating (Alpha)')\n",
    "\n",
    "# add axis labels\n",
    "plt.xlabel('Employment Status')\n",
    "plt.ylabel('Count')\n",
    "plt.title('Rating by Employment')\n",
    "\n",
    "# rotate x-axis labels\n",
    "plt.xticks(rotation=90)\n",
    "\n",
    "# show plot\n",
    "plt.show()\n"
   ]
  },
  {
   "cell_type": "markdown",
   "metadata": {
    "slideshow": {
     "slide_type": "slide"
    }
   },
   "source": [
    "The resulting plot shows the distribution of ProsperRating for each value of EmploymentStatus. We can see that for most EmploymentStatus categories, the majority of loans have a ProsperRating of C or D. However, there are some differences between categories: for example, self-employed borrowers are more likely to have a ProsperRating of HR (high-risk) than borrowers who are employed or retired."
   ]
  },
  {
   "cell_type": "code",
   "execution_count": null,
   "metadata": {
    "slideshow": {
     "slide_type": "slide"
    }
   },
   "outputs": [],
   "source": [
    "# reset the index if the column names are not in the index\n",
    "ploan = ploan.reset_index()\n",
    "\n",
    "# select the required columns\n",
    "selected_cols = ['ProsperRating (Alpha)', 'DebtToIncomeRatio','EmploymentStatus','Term']\n",
    "ploan = ploan[selected_cols]\n",
    "\n",
    "import seaborn as sns\n",
    "\n",
    "# Create a pair grid with multiple variables\n",
    "g = sns.PairGrid(ploan, vars=[\"DebtToIncomeRatio\", \"ProsperRating (Alpha)\",\"Term\"])\n",
    "\n",
    "# Map scatter plot to upper triangle\n",
    "g.map_upper(sns.scatterplot)\n",
    "\n",
    "# Map histogram plot to diagonal\n",
    "g.map_diag(sns.histplot)\n",
    "\n",
    "# Map kernel density plot to lower triangle\n",
    "g.map_lower(sns.violinplot)\n",
    "\n",
    "# Add legend\n",
    "g.add_legend()\n",
    "\n",
    "# Show plot\n",
    "plt.show()"
   ]
  },
  {
   "cell_type": "markdown",
   "metadata": {
    "slideshow": {
     "slide_type": "slide"
    }
   },
   "source": [
    "This graph shows a PairGrid plot with multiple variables from the Prosper loan dataset. The variables used in this plot are DebtToIncomeRatio, ProsperRating (Alpha), and Term. The upper triangle of the grid contains scatterplots showing the relationship between the variables, while the diagonal contains histograms showing the distribution of each variable. The lower triangle contains violin plots, which are similar to box plots but show the distribution of data in a more detailed way.\n",
    "\n",
    "From the scatterplots, we can see that DebtToIncomeRatio and ProsperRating (Alpha) are weakly negatively correlated, meaning that as the debt-to-income ratio increases, the Prosper rating tends to decrease slightly. The scatterplot of ProsperRating (Alpha) and Term shows that longer-term oans tend to have higher ratings, while shorter-term loans tend to have lower ratings.\n",
    "\n",
    "The histograms show that DebtToIncomeRatio is slightly skewed to the right, indicating that most borrowers have a relatively low debt-to-income ratio. ProsperRating (Alpha) is roughly normally distributed, with a peak in the B rating category. The histogram for Term shows that the most common loan term is 36 months.\n",
    "\n",
    "The violin plots in the lower triangle show the distribution of each variable. The DebtToIncomeRatio plot is skewed to the right, with a few borrowers having very high ratios. The ProsperRating (Alpha) plot shows that the distribution is wider in the lower rating categories, indicating that there is more variability in borrower characteristics among those with lower ratings. Finally, the Term plot shows that the 36-month term is the most common, with a few borrowers taking out loans for longer or shorter terms. "
   ]
  },
  {
   "cell_type": "code",
   "execution_count": null,
   "metadata": {
    "slideshow": {
     "slide_type": "skip"
    }
   },
   "outputs": [],
   "source": [
    "!jupyter nbconvert Part_II_slide.ipynb --to slides --post serve --no-input --no-prompt"
   ]
  },
  {
   "cell_type": "code",
   "execution_count": null,
   "metadata": {
    "slideshow": {
     "slide_type": "slide"
    }
   },
   "outputs": [],
   "source": [
    "Thank you for your time. "
   ]
  }
 ],
 "metadata": {
  "celltoolbar": "Slideshow",
  "kernelspec": {
   "display_name": "Python 3 (ipykernel)",
   "language": "python",
   "name": "python3"
  },
  "language_info": {
   "codemirror_mode": {
    "name": "ipython",
    "version": 3
   },
   "file_extension": ".py",
   "mimetype": "text/x-python",
   "name": "python",
   "nbconvert_exporter": "python",
   "pygments_lexer": "ipython3",
   "version": "3.9.13"
  }
 },
 "nbformat": 4,
 "nbformat_minor": 2
}
